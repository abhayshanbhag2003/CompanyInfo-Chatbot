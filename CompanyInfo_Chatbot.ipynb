{
  "cells": [
    {
      "cell_type": "code",
      "execution_count": 15,
      "metadata": {
        "colab": {
          "base_uri": "https://localhost:8080/"
        },
        "id": "uI2N_BgGHOZ_",
        "outputId": "843da9f6-2b50-47a3-caaa-df2e288a932d"
      },
      "outputs": [
        {
          "output_type": "stream",
          "name": "stderr",
          "text": [
            "[nltk_data] Downloading package punkt to /root/nltk_data...\n",
            "[nltk_data]   Package punkt is already up-to-date!\n"
          ]
        }
      ],
      "source": [
        "import nltk\n",
        "nltk.download('punkt')\n",
        "from nltk.stem.lancaster import LancasterStemmer\n",
        "stemmer = LancasterStemmer()\n",
        "\n",
        "import tensorflow as tf\n",
        "import numpy as np\n",
        "\n",
        "import random\n",
        "import json"
      ]
    },
    {
      "cell_type": "code",
      "source": [
        "!pip install tflearn\n",
        "\n"
      ],
      "metadata": {
        "colab": {
          "base_uri": "https://localhost:8080/"
        },
        "id": "WfU5HvoHcZ6t",
        "outputId": "9aeaac71-2cf4-460c-d0b0-4dcbb233fa60"
      },
      "execution_count": 17,
      "outputs": [
        {
          "output_type": "stream",
          "name": "stdout",
          "text": [
            "Collecting tflearn\n",
            "  Downloading tflearn-0.5.0.tar.gz (107 kB)\n",
            "\u001b[?25l     \u001b[90m━━━━━━━━━━━━━━━━━━━━━━━━━━━━━━━━━━━━━━━━\u001b[0m \u001b[32m0.0/107.3 kB\u001b[0m \u001b[31m?\u001b[0m eta \u001b[36m-:--:--\u001b[0m\r\u001b[2K     \u001b[91m━━━━━━━━━━━━━━━━━━━━━━━━━━\u001b[0m\u001b[91m╸\u001b[0m\u001b[90m━━━━━━━━━━━━━\u001b[0m \u001b[32m71.7/107.3 kB\u001b[0m \u001b[31m2.0 MB/s\u001b[0m eta \u001b[36m0:00:01\u001b[0m\r\u001b[2K     \u001b[90m━━━━━━━━━━━━━━━━━━━━━━━━━━━━━━━━━━━━━━━\u001b[0m \u001b[32m107.3/107.3 kB\u001b[0m \u001b[31m2.2 MB/s\u001b[0m eta \u001b[36m0:00:00\u001b[0m\n",
            "\u001b[?25h  Preparing metadata (setup.py) ... \u001b[?25l\u001b[?25hdone\n",
            "Requirement already satisfied: numpy in /usr/local/lib/python3.10/dist-packages (from tflearn) (1.22.4)\n",
            "Requirement already satisfied: six in /usr/local/lib/python3.10/dist-packages (from tflearn) (1.16.0)\n",
            "Requirement already satisfied: Pillow in /usr/local/lib/python3.10/dist-packages (from tflearn) (9.4.0)\n",
            "Building wheels for collected packages: tflearn\n",
            "  Building wheel for tflearn (setup.py) ... \u001b[?25l\u001b[?25hdone\n",
            "  Created wheel for tflearn: filename=tflearn-0.5.0-py3-none-any.whl size=127282 sha256=ec5c5e45c70cc06556aba3cceab1d2d35168d06ef836587509da0c36cafa7e76\n",
            "  Stored in directory: /root/.cache/pip/wheels/55/fb/7b/e06204a0ceefa45443930b9a250cb5ebe31def0e4e8245a465\n",
            "Successfully built tflearn\n",
            "Installing collected packages: tflearn\n",
            "Successfully installed tflearn-0.5.0\n"
          ]
        }
      ]
    },
    {
      "cell_type": "code",
      "source": [
        "import tflearn"
      ],
      "metadata": {
        "colab": {
          "base_uri": "https://localhost:8080/"
        },
        "id": "OFQ2jUXU2bZp",
        "outputId": "607d4a4b-949a-47e2-cf19-3a5b350bdb10"
      },
      "execution_count": 18,
      "outputs": [
        {
          "output_type": "stream",
          "name": "stderr",
          "text": [
            "WARNING:tensorflow:From /usr/local/lib/python3.10/dist-packages/tensorflow/python/compat/v2_compat.py:107: disable_resource_variables (from tensorflow.python.ops.variable_scope) is deprecated and will be removed in a future version.\n",
            "Instructions for updating:\n",
            "non-resource variables are not supported in the long term\n"
          ]
        }
      ]
    },
    {
      "cell_type": "markdown",
      "source": [
        "Loading the Intents file"
      ],
      "metadata": {
        "id": "0ya_eHicbEFD"
      }
    },
    {
      "cell_type": "code",
      "execution_count": 3,
      "metadata": {
        "id": "M57hcdjQINcX"
      },
      "outputs": [],
      "source": [
        "with open('intents (1).json') as json_data:\n",
        "    intents = json.load(json_data)"
      ]
    },
    {
      "cell_type": "code",
      "execution_count": 4,
      "metadata": {
        "colab": {
          "base_uri": "https://localhost:8080/"
        },
        "id": "GozCcvaQIY6T",
        "outputId": "abec3596-bd56-49d8-b5e6-ec54d294c65f"
      },
      "outputs": [
        {
          "output_type": "execute_result",
          "data": {
            "text/plain": [
              "{'intents': [{'tag': 'greeting',\n",
              "   'patterns': ['Hi',\n",
              "    'Hey',\n",
              "    'How are you',\n",
              "    'Is anyone there?',\n",
              "    'Hello',\n",
              "    'Good day'],\n",
              "   'responses': ['Welcome to our company! How can I assist you today?',\n",
              "    'Hello, thank you for reaching out. How may I help you?',\n",
              "    'Hi there! How can I be of service to you?',\n",
              "    'Greetings! How may I assist you?']},\n",
              "  {'tag': 'company_overview',\n",
              "   'patterns': ['Tell me about your company',\n",
              "    'What does your company do?',\n",
              "    'Can you give me an overview of your company?',\n",
              "    'What services does your company provide?'],\n",
              "   'responses': ['Our company is a leading provider of innovative solutions in [industry/field]. We specialize in [specific services/products]. Our goal is to deliver high-quality solutions that meet the needs of our clients and contribute to their success.',\n",
              "    'At our company, we are dedicated to [industry/field] and offer a wide range of services to our clients. We strive to provide excellent solutions that drive growth and deliver tangible results.',\n",
              "    'We are a dynamic company focused on [industry/field]. Our team excels in delivering cutting-edge solutions and services to help our clients achieve their goals and stay ahead in the market.']},\n",
              "  {'tag': 'company_values',\n",
              "   'patterns': ['What are your company values?',\n",
              "    'Tell me about the values of your company',\n",
              "    'What principles does your company adhere to?'],\n",
              "   'responses': ['At our company, we value integrity, innovation, and customer satisfaction. These principles guide our actions and decisions, ensuring that we operate ethically, drive creativity, and prioritize the needs of our clients.',\n",
              "    'Our company is built on a foundation of transparency, collaboration, and continuous improvement. We believe in fostering a positive work environment, embracing diversity, and delivering exceptional value to our clients.',\n",
              "    'The core values of our company include professionalism, teamwork, and a commitment to excellence. We strive to maintain the highest standards in everything we do and foster a culture of trust, respect, and continuous learning.']},\n",
              "  {'tag': 'company_team',\n",
              "   'patterns': ['Who are the people behind your company?',\n",
              "    'Tell me about your team',\n",
              "    'Who makes up your company?'],\n",
              "   'responses': ['Our company is powered by a team of highly skilled professionals who are experts in their respective fields. From talented engineers to creative designers and dedicated support staff, our team is committed to delivering exceptional solutions and services.',\n",
              "    'We have a diverse team of individuals who bring unique perspectives and expertise to our company. Our team consists of experienced professionals with a passion for [industry/field] and a drive to exceed client expectations.',\n",
              "    'At our company, we have assembled a team of top talents who share a common goal of delivering excellence. Our team members have a wealth of experience and knowledge, allowing us to tackle complex challenges and provide innovative solutions.']},\n",
              "  {'tag': 'company_contact',\n",
              "   'patterns': ['How can I contact your company?',\n",
              "    'What are your contact details?',\n",
              "    \"Can you provide me with your company's contact information?\"],\n",
              "   'responses': ['You can reach us by phone at [phone number] or via email at [email address]. Alternatively, you can visit our website at [website URL] for more information and to get in touch with us.',\n",
              "    'For any inquiries ,Yyu can contact our company by calling us at [phone number] or sending us an email at [email address]. We are also available on our website at [website URL], where you can find more information about our services and use our contact form to reach out to us. We look forward to hearing from you!']},\n",
              "  {'tag': 'goodbye',\n",
              "   'patterns': ['Bye', 'See you later', 'Goodbye'],\n",
              "   'responses': ['Thank you for your interest in our company. Have a great day!',\n",
              "    'Goodbye! Feel free to reach out to us again in the future.',\n",
              "    'Take care and have a wonderful day!']},\n",
              "  {'tag': 'thanks',\n",
              "   'patterns': ['Thanks', 'Thank you', \"That's helpful\", \"Thank's a lot!\"],\n",
              "   'responses': [\"You're welcome! If you have any more questions, feel free to ask.\",\n",
              "    \"You're welcome! We're here to assist you.\",\n",
              "    \"Glad I could help! If you need further assistance, don't hesitate to ask.\"]},\n",
              "  {'tag': 'funny',\n",
              "   'patterns': ['Tell me a joke!',\n",
              "    'Tell me something funny!',\n",
              "    'Do you know a joke?'],\n",
              "   'responses': [\"Sure, here's a joke for you: Why don't scientists trust atoms? Because they make up everything!\",\n",
              "    \"I've got a joke for you: Why did the computer go to the doctor? Because it had a virus!\",\n",
              "    \"Here's a lighthearted one: Why did the scarecrow win an award? Because he was outstanding in his field!\"]}]}"
            ]
          },
          "metadata": {},
          "execution_count": 4
        }
      ],
      "source": [
        "intents"
      ]
    },
    {
      "cell_type": "markdown",
      "source": [
        "Tokenising the intents ---> get unique keywords--->perform stemming"
      ],
      "metadata": {
        "id": "1Fd5Nk9HXXck"
      }
    },
    {
      "cell_type": "code",
      "execution_count": 19,
      "metadata": {
        "id": "yc1YmB-qIk1T"
      },
      "outputs": [],
      "source": [
        "words = []\n",
        "classes = []\n",
        "documents = []\n",
        "ignore = ['?']\n",
        "# to get insights from the intents file ,i tokenised the sentence in 'patterns' and appened their tagsin documents\n",
        "for intent in intents['intents']:\n",
        "    for pattern in intent['patterns']:\n",
        "        w = nltk.word_tokenize(pattern)\n",
        "        words.extend(w)\n",
        "        documents.append((w, intent['tag']))\n",
        "        if intent['tag'] not in classes:\n",
        "            classes.append(intent['tag'])"
      ]
    },
    {
      "cell_type": "code",
      "execution_count": 20,
      "metadata": {
        "colab": {
          "base_uri": "https://localhost:8080/"
        },
        "id": "P6UfLpzOI10-",
        "outputId": "f4a17372-a6f5-4d9b-b6d2-9263ef7d05b0"
      },
      "outputs": [
        {
          "output_type": "stream",
          "name": "stdout",
          "text": [
            "29 documents\n",
            "8 classes ['company_contact', 'company_overview', 'company_team', 'company_values', 'funny', 'goodbye', 'greeting', 'thanks']\n",
            "57 unique stemmed words ['!', \"'s\", 'a', 'about', 'adh', 'an', 'anyon', 'ar', 'behind', 'bye', 'can', 'company', 'contact', 'day', 'detail', 'do', 'doe', 'funny', 'giv', 'good', 'goodby', 'hello', 'help', 'hey', 'hi', 'how', 'i', 'inform', 'is', 'jok', 'know', 'lat', 'lot', 'mak', 'me', 'of', 'overview', 'peopl', 'principl', 'provid', 'see', 'serv', 'someth', 'team', 'tel', 'thank', 'that', 'the', 'ther', 'to', 'up', 'valu', 'what', 'who', 'with', 'yo', 'you']\n"
          ]
        }
      ],
      "source": [
        "words = [stemmer.stem(w.lower()) for w in words if w not in ignore]\n",
        "words = sorted(list(set(words)))#set helps inremoving duplicates\n",
        "\n",
        "\n",
        "classes = sorted(list(set(classes)))#same for this\n",
        "print (len(documents), \"documents\")\n",
        "print (len(classes), \"classes\", classes)\n",
        "print (len(words), \"unique stemmed words\", words)"
      ]
    },
    {
      "cell_type": "markdown",
      "source": [
        "bagging words for training"
      ],
      "metadata": {
        "id": "78er9scEYCzo"
      }
    },
    {
      "cell_type": "code",
      "execution_count": 21,
      "metadata": {
        "colab": {
          "base_uri": "https://localhost:8080/"
        },
        "id": "g5lzg1mgJFAp",
        "outputId": "6ceb205e-831e-4a7b-e821-28ecbb17542e"
      },
      "outputs": [
        {
          "output_type": "stream",
          "name": "stderr",
          "text": [
            "<ipython-input-21-a4706b1d540e>:19: VisibleDeprecationWarning: Creating an ndarray from ragged nested sequences (which is a list-or-tuple of lists-or-tuples-or ndarrays with different lengths or shapes) is deprecated. If you meant to do this, you must specify 'dtype=object' when creating the ndarray.\n",
            "  training = np.array(training)\n"
          ]
        }
      ],
      "source": [
        "\n",
        "training = []\n",
        "output = []\n",
        "output_empty = [0] * len(classes)\n",
        "for doc in documents:\n",
        "\n",
        "    bag = []\n",
        "    pattern_words = doc[0]\n",
        "    pattern_words = [stemmer.stem(word.lower()) for word in pattern_words]\n",
        "    for w in words:\n",
        "        bag.append(1) if w in pattern_words else bag.append(0)# ---->this creates a bag of words\n",
        "\n",
        "    output_row = list(output_empty)\n",
        "    output_row[classes.index(doc[1])] = 1\n",
        "\n",
        "    training.append([bag, output_row])\n",
        "\n",
        "\n",
        "random.shuffle(training)\n",
        "training = np.array(training)\n",
        "\n",
        "train_x = list(training[:,0])\n",
        "train_y = list(training[:,1])"
      ]
    },
    {
      "cell_type": "code",
      "execution_count": 22,
      "metadata": {
        "colab": {
          "base_uri": "https://localhost:8080/"
        },
        "id": "A42n_5BlR1Kk",
        "outputId": "ca6b36ce-f7a2-42b7-b1f5-85e7206a749b"
      },
      "outputs": [
        {
          "output_type": "stream",
          "name": "stdout",
          "text": [
            "57\n",
            "8\n"
          ]
        }
      ],
      "source": [
        "print(len(train_x[0]))\n",
        "print(len(train_y[0]))"
      ]
    },
    {
      "cell_type": "markdown",
      "source": [
        "**NEURAL NETWORK BUILDING anad MODEL TRAINING **"
      ],
      "metadata": {
        "id": "sWF_XM_6YFRn"
      }
    },
    {
      "cell_type": "code",
      "execution_count": 23,
      "metadata": {
        "colab": {
          "base_uri": "https://localhost:8080/"
        },
        "id": "9j3KtUG8JgPJ",
        "outputId": "999d9f82-2f2a-43d2-dd86-e1d7493b0214"
      },
      "outputs": [
        {
          "output_type": "stream",
          "name": "stdout",
          "text": [
            "Training Step: 3999  | total loss: \u001b[1m\u001b[32m0.03680\u001b[0m\u001b[0m | time: 0.017s\n",
            "| Adam | epoch: 1000 | loss: 0.03680 - acc: 1.0000 -- iter: 24/29\n",
            "Training Step: 4000  | total loss: \u001b[1m\u001b[32m0.03703\u001b[0m\u001b[0m | time: 0.024s\n",
            "| Adam | epoch: 1000 | loss: 0.03703 - acc: 1.0000 -- iter: 29/29\n",
            "--\n"
          ]
        }
      ],
      "source": [
        "from tensorflow.python.framework import ops\n",
        "ops.reset_default_graph()\n",
        "\n",
        "# Building neural network with 3 layers, last one being the softmax layer\n",
        "net = tflearn.input_data(shape=[None, len(train_x[0])])\n",
        "net = tflearn.fully_connected(net, 10)\n",
        "net = tflearn.fully_connected(net, 10)\n",
        "net = tflearn.fully_connected(net, len(train_y[0]), activation='softmax')\n",
        "net = tflearn.regression(net)\n",
        "\n",
        "model = tflearn.DNN(net, tensorboard_dir='tflearn_logs')\n",
        "\n",
        "#now train it\n",
        "model.fit(train_x, train_y, n_epoch=1000, batch_size=8, show_metric=True)\n",
        "model.save('model.tflearn')"
      ]
    },
    {
      "cell_type": "markdown",
      "source": [
        "Saving my trained model"
      ],
      "metadata": {
        "id": "1HRCEd-6YW3m"
      }
    },
    {
      "cell_type": "code",
      "execution_count": 24,
      "metadata": {
        "id": "l7TdYchaKq22"
      },
      "outputs": [],
      "source": [
        "import pickle\n",
        "pickle.dump( {'words':words, 'classes':classes, 'train_x':train_x, 'train_y':train_y}, open( \"training_data\", \"wb\" ) )"
      ]
    },
    {
      "cell_type": "markdown",
      "source": [
        "Now i'll load my saved model for using"
      ],
      "metadata": {
        "id": "l1ohvX2KbLcA"
      }
    },
    {
      "cell_type": "code",
      "execution_count": 25,
      "metadata": {
        "id": "fZNyfRnmLCw5"
      },
      "outputs": [],
      "source": [
        "# restoring all the data structures\n",
        "data = pickle.load( open( \"training_data\", \"rb\" ) )\n",
        "words = data['words']\n",
        "classes = data['classes']\n",
        "train_x = data['train_x']\n",
        "train_y = data['train_y']"
      ]
    },
    {
      "cell_type": "code",
      "execution_count": 26,
      "metadata": {
        "id": "HZ1SQOtnLcBZ"
      },
      "outputs": [],
      "source": [
        "# load the saved model\n",
        "model.load('./model.tflearn')"
      ]
    },
    {
      "cell_type": "markdown",
      "source": [
        "Below i have written 4 functions that deals with cleaning and NLP to make it suitable to feed to the model."
      ],
      "metadata": {
        "id": "BOpsUvtnbalv"
      }
    },
    {
      "cell_type": "code",
      "execution_count": 27,
      "metadata": {
        "id": "v1hAVFi0LeTi"
      },
      "outputs": [],
      "source": [
        "def clean_up_sentence(sentence):# --->this helps in getting keywords in a sentence\n",
        "    sentence_words = nltk.word_tokenize(sentence)\n",
        "    sentence_words = [stemmer.stem(word.lower()) for word in sentence_words]\n",
        "    return sentence_words\n",
        "\n",
        "# returning bag of words array: 0 or 1 for each word in the bag that exists in the sentence\n",
        "def bow(sentence, words, show_details=False):\n",
        "    sentence_words = clean_up_sentence(sentence)\n",
        "    bag = [0]*len(words)\n",
        "    for s in sentence_words:\n",
        "        for i,w in enumerate(words):\n",
        "            if w == s:\n",
        "                bag[i] = 1\n",
        "                if show_details:\n",
        "                    print (\"found in bag: %s\" % w)\n",
        "\n",
        "    return(np.array(bag))\n"
      ]
    },
    {
      "cell_type": "code",
      "execution_count": 29,
      "metadata": {
        "id": "VdBtjdayLmeJ"
      },
      "outputs": [],
      "source": [
        "ERROR_THRESHOLD = 0.1\n",
        "def classify(sentence):# used to indicatethe probability of category being correct\n",
        "    results = model.predict([bow(sentence, words)])[0]\n",
        "    results = [[i,r] for i,r in enumerate(results) if r>ERROR_THRESHOLD]\n",
        "    results.sort(key=lambda x: x[1], reverse=True) # more probable first foloowed by rest in desc order\n",
        "    return_list = []\n",
        "    for r in results:\n",
        "        return_list.append((classes[r[0]], r[1]))\n",
        "    return return_list\n",
        "\n",
        "def response(sentence, userID='123', show_details=False):#--->this fuction gets the category from 'classify' and then output using the intent file\n",
        "    results = classify(sentence)\n",
        "    if results:\n",
        "        while results:\n",
        "            for i in intents['intents']:\n",
        "                if i['tag'] == results[0][0]:\n",
        "                    return print(random.choice(i['responses']))# incase no match is found\n",
        "\n",
        "\n",
        "\n"
      ]
    },
    {
      "cell_type": "code",
      "execution_count": 38,
      "metadata": {
        "id": "8MpK_0sBLw7I",
        "colab": {
          "base_uri": "https://localhost:8080/"
        },
        "outputId": "2b9ff38e-f2c1-4508-91ec-89f96331715f"
      },
      "outputs": [
        {
          "output_type": "execute_result",
          "data": {
            "text/plain": [
              "[('goodbye', 0.5992811), ('greeting', 0.39464253)]"
            ]
          },
          "metadata": {},
          "execution_count": 38
        }
      ],
      "source": [
        "classify('hey there!')\n"
      ]
    },
    {
      "cell_type": "code",
      "source": [
        "classify(\"do yo foloow and values or ethics?\")"
      ],
      "metadata": {
        "colab": {
          "base_uri": "https://localhost:8080/"
        },
        "id": "pdSO0ipK8sPv",
        "outputId": "8f499855-9395-4c08-fe1d-0bde6c91fd91"
      },
      "execution_count": 48,
      "outputs": [
        {
          "output_type": "execute_result",
          "data": {
            "text/plain": [
              "[('company_values', 0.54910797),\n",
              " ('company_team', 0.2789474),\n",
              " ('company_overview', 0.16939601)]"
            ]
          },
          "metadata": {},
          "execution_count": 48
        }
      ]
    },
    {
      "cell_type": "code",
      "source": [
        "response('hello ,Im abhay shanbhag')"
      ],
      "metadata": {
        "colab": {
          "base_uri": "https://localhost:8080/"
        },
        "id": "D-_b4TJs8zao",
        "outputId": "82c293df-c499-4375-fce0-85951d0b9c33"
      },
      "execution_count": 52,
      "outputs": [
        {
          "output_type": "stream",
          "name": "stdout",
          "text": [
            "Hi there! How can I be of service to you?\n"
          ]
        }
      ]
    },
    {
      "cell_type": "code",
      "source": [
        "response (\"What does the company  you do?\")"
      ],
      "metadata": {
        "colab": {
          "base_uri": "https://localhost:8080/"
        },
        "id": "RDu6HoHu8LeF",
        "outputId": "4020b82e-c375-4146-d347-1b3d0bb18c37"
      },
      "execution_count": 45,
      "outputs": [
        {
          "output_type": "stream",
          "name": "stdout",
          "text": [
            "We are a dynamic company focused on [industry/field]. Our team excels in delivering cutting-edge solutions and services to help our clients achieve their goals and stay ahead in the market.\n"
          ]
        }
      ]
    },
    {
      "cell_type": "code",
      "source": [
        "response(\"What are your company values?\")"
      ],
      "metadata": {
        "colab": {
          "base_uri": "https://localhost:8080/"
        },
        "id": "dK49_VWB3gtJ",
        "outputId": "a38a5d95-8440-4bf2-e7cd-4564d414f8d5"
      },
      "execution_count": 37,
      "outputs": [
        {
          "output_type": "stream",
          "name": "stdout",
          "text": [
            "At our company, we value integrity, innovation, and customer satisfaction. These principles guide our actions and decisions, ensuring that we operate ethically, drive creativity, and prioritize the needs of our clients.\n"
          ]
        }
      ]
    },
    {
      "cell_type": "code",
      "source": [
        "response(\"How can I contact your company\")"
      ],
      "metadata": {
        "colab": {
          "base_uri": "https://localhost:8080/"
        },
        "id": "PKiG41ZI3m1l",
        "outputId": "f9712dbc-5929-4488-ec5a-b05c81169e4f"
      },
      "execution_count": 40,
      "outputs": [
        {
          "output_type": "stream",
          "name": "stdout",
          "text": [
            "For any inquiries ,Yyu can contact our company by calling us at [phone number] or sending us an email at [email address]. We are also available on our website at [website URL], where you can find more information about our services and use our contact form to reach out to us. We look forward to hearing from you!\n"
          ]
        }
      ]
    },
    {
      "cell_type": "code",
      "execution_count": 36,
      "metadata": {
        "id": "7fEzjQrWL3ER",
        "colab": {
          "base_uri": "https://localhost:8080/"
        },
        "outputId": "bd4212f1-be49-4f19-a949-23aa75d522e8"
      },
      "outputs": [
        {
          "output_type": "stream",
          "name": "stdout",
          "text": [
            "Sure, here's a joke for you: Why don't scientists trust atoms? Because they make up everything!\n"
          ]
        }
      ],
      "source": [
        "response(\" tell me a joke \")\n"
      ]
    },
    {
      "cell_type": "code",
      "source": [
        "response(\"Nice talking to you!!\")"
      ],
      "metadata": {
        "colab": {
          "base_uri": "https://localhost:8080/"
        },
        "id": "Dwn9ekuQ8jdx",
        "outputId": "f35081d8-ac5f-49e6-9805-46d4b35bba9d"
      },
      "execution_count": 47,
      "outputs": [
        {
          "output_type": "stream",
          "name": "stdout",
          "text": [
            "Thank you for your interest in our company. Have a great day!\n"
          ]
        }
      ]
    }
  ],
  "metadata": {
    "colab": {
      "provenance": []
    },
    "kernelspec": {
      "display_name": "Python 3",
      "name": "python3"
    },
    "language_info": {
      "name": "python"
    }
  },
  "nbformat": 4,
  "nbformat_minor": 0
}